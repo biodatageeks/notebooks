{
 "cells": [
  {
   "cell_type": "code",
   "execution_count": null,
   "outputs": [],
   "source": [
    "%%bash\n",
    "wget http://biodatageeks.org/sequila/data/NA12878.multichrom.md.bam\n",
    "wget http://biodatageeks.org/sequila/data/NA12878.multichrom.md.bam.bai\n",
    "wget http://biodatageeks.org/sequila/data/Homo_sapiens_assembly18_chr1_chrM.small.fasta\n",
    "wget http://biodatageeks.org/sequila/data/Homo_sapiens_assembly18_chr1_chrM.small.fasta.fai"
   ],
   "metadata": {
    "collapsed": false,
    "pycharm": {
     "name": "#%%\n"
    }
   }
  },
  {
   "cell_type": "code",
   "execution_count": null,
   "outputs": [],
   "source": [
    "import os\n",
    "base_path = os.path.dirname(os.getcwd())\n",
    "\n",
    "bam_path = f'{base_path}/NA12878.multichrom.md.bam'\n",
    "ref_path=f'{base_path}/Homo_sapiens_assembly18_chr1_chrM.small.fasta'\n",
    "sample_id= 'NA12878'\n",
    "table_name = 'reads'\n",
    "\n",
    "app_name = \"sequila\"\n"
   ],
   "metadata": {
    "collapsed": false,
    "pycharm": {
     "name": "#%%\n"
    }
   }
  },
  {
   "cell_type": "code",
   "execution_count": null,
   "outputs": [],
   "source": [
    "from pyspark.sql import SparkSession\n",
    "spark = SparkSession \\\n",
    ".builder \\\n",
    ".appName(f'{app_name}') \\\n",
    ".getOrCreate()"
   ],
   "metadata": {
    "collapsed": false,
    "pycharm": {
     "name": "#%%\n"
    }
   }
  },
  {
   "cell_type": "code",
   "execution_count": null,
   "outputs": [],
   "source": [
    "from pysequila import SequilaSession\n",
    "ss = SequilaSession(spark)\n",
    "\n",
    "ss.sql(f'''CREATE TABLE IF NOT EXISTS {table_name} \\\n",
    "         USING org.biodatageeks.sequila.datasources.BAM.BAMDataSource \\\n",
    "         OPTIONS(path \"{bam_path}\")''')"
   ],
   "metadata": {
    "collapsed": false,
    "pycharm": {
     "name": "#%%\n"
    }
   }
  },
  {
   "cell_type": "code",
   "execution_count": null,
   "outputs": [],
   "source": [
    "ss.sql(f\"SELECT * FROM {table_name}\").show(10)"
   ],
   "metadata": {
    "collapsed": false,
    "pycharm": {
     "name": "#%%\n"
    }
   }
  },
  {
   "cell_type": "code",
   "execution_count": null,
   "outputs": [],
   "source": [
    "ss.sql(f\"SELECT * FROM  pileup('{table_name}', '{sample_id}', '{ref_path}', true)\").show(10)\n"
   ],
   "metadata": {
    "collapsed": false,
    "pycharm": {
     "name": "#%%\n"
    }
   }
  }
 ],
 "metadata": {
  "kernelspec": {
   "display_name": "Python 3",
   "language": "python",
   "name": "python3"
  },
  "language_info": {
   "codemirror_mode": {
    "name": "ipython",
    "version": 2
   },
   "file_extension": ".py",
   "mimetype": "text/x-python",
   "name": "python",
   "nbconvert_exporter": "python",
   "pygments_lexer": "ipython2",
   "version": "2.7.6"
  }
 },
 "nbformat": 4,
 "nbformat_minor": 0
}