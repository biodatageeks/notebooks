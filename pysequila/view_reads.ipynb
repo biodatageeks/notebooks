{
 "cells": [
  {
   "cell_type": "code",
   "execution_count": null,
   "metadata": {
    "collapsed": false,
    "jupyter": {
     "outputs_hidden": false
    },
    "pycharm": {
     "name": "#%%\n"
    }
   },
   "outputs": [],
   "source": [
    "%%bash\n",
    "mkdir data\n",
    "cd data\n",
    "wget http://biodatageeks.ii.pw.edu.pl/sequila/data/NA12878.multichrom.md.bam\n",
    "wget http://biodatageeks.ii.pw.edu.pl/sequila/data/NA12878.multichrom.md.bam.bai\n",
    "wget http://biodatageeks.ii.pw.edu.pl/sequila/data/Homo_sapiens_assembly18_chr1_chrM.small.fasta\n",
    "wget http://biodatageeks.ii.pw.edu.pl/sequila/data/Homo_sapiens_assembly18_chr1_chrM.small.fasta.fai"
   ]
  },
  {
   "cell_type": "code",
   "execution_count": null,
   "metadata": {
    "collapsed": false,
    "jupyter": {
     "outputs_hidden": false
    },
    "pycharm": {
     "name": "#%%\n"
    }
   },
   "outputs": [],
   "source": [
    "import os\n",
    "base_path = f\"{os.getcwd()}/data\"\n",
    "\n",
    "bam_path = f'{base_path}/NA12878.multichrom.md.bam'\n",
    "ref_path=f'{base_path}/Homo_sapiens_assembly18_chr1_chrM.small.fasta'\n",
    "sample_id= 'NA12878'\n",
    "table_name = 'reads'\n",
    "\n",
    "app_name = \"sequila\"\n"
   ]
  },
  {
   "cell_type": "code",
   "execution_count": null,
   "metadata": {
    "collapsed": false,
    "jupyter": {
     "outputs_hidden": false
    },
    "pycharm": {
     "name": "#%%\n"
    }
   },
   "outputs": [],
   "source": [
    "from pyspark.sql import SparkSession\n",
    "spark = SparkSession \\\n",
    ".builder \\\n",
    ".appName(f'{app_name}') \\\n",
    ".getOrCreate()"
   ]
  },
  {
   "cell_type": "code",
   "execution_count": null,
   "metadata": {
    "collapsed": false,
    "jupyter": {
     "outputs_hidden": false
    },
    "pycharm": {
     "name": "#%%\n"
    }
   },
   "outputs": [],
   "source": [
    "from pysequila import SequilaSession\n",
    "ss = SequilaSession(spark)\n",
    "\n",
    "ss.sql(f'''CREATE TABLE IF NOT EXISTS {table_name} \\\n",
    "         USING org.biodatageeks.sequila.datasources.BAM.BAMDataSource \\\n",
    "         OPTIONS(path \"{bam_path}\")''')"
   ]
  },
  {
   "cell_type": "code",
   "execution_count": null,
   "metadata": {
    "collapsed": false,
    "jupyter": {
     "outputs_hidden": false
    },
    "pycharm": {
     "name": "#%%\n"
    }
   },
   "outputs": [],
   "source": [
    "import pandas as pd\n",
    "pd.options.display.max_columns = None\n",
    "ss.sql(f\"SELECT * FROM {table_name} LIMIT 5\").toPandas()"
   ]
  },
  {
   "cell_type": "code",
   "execution_count": null,
   "metadata": {
    "collapsed": false,
    "jupyter": {
     "outputs_hidden": false
    },
    "pycharm": {
     "name": "#%%\n"
    }
   },
   "outputs": [],
   "source": [
    "ss.sql(f\"SELECT * FROM  pileup('{table_name}', '{sample_id}', '{ref_path}', true) LIMIT 10\").toPandas()\n"
   ]
  },
  {
   "cell_type": "code",
   "execution_count": null,
   "metadata": {},
   "outputs": [],
   "source": []
  }
 ],
 "metadata": {
  "kernelspec": {
   "display_name": "pysequila",
   "language": "python",
   "name": "pysequila"
  },
  "language_info": {
   "codemirror_mode": {
    "name": "ipython",
    "version": 3
   },
   "file_extension": ".py",
   "mimetype": "text/x-python",
   "name": "python",
   "nbconvert_exporter": "python",
   "pygments_lexer": "ipython3",
   "version": "3.7.8"
  }
 },
 "nbformat": 4,
 "nbformat_minor": 4
}
