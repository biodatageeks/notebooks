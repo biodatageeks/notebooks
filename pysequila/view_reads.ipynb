{
 "cells": [
  {
   "cell_type": "code",
   "execution_count": null,
   "outputs": [],
   "source": [
    "import findspark\n",
    "import os\n",
    "findspark.init()"
   ],
   "metadata": {
    "collapsed": false,
    "pycharm": {
     "name": "#%%\n"
    }
   }
  },
  {
   "cell_type": "code",
   "execution_count": null,
   "outputs": [],
   "source": [
    "app_name = \"sequila_base\"\n",
    "from pyspark.sql import SparkSession\n",
    "spark = SparkSession \\\n",
    ".builder \\\n",
    ".appName(f'{app_name}') \\\n",
    ".getOrCreate()"
   ],
   "metadata": {
    "collapsed": false,
    "pycharm": {
     "name": "#%%\n"
    }
   }
  },
  {
   "cell_type": "code",
   "execution_count": null,
   "outputs": [],
   "source": [
    "base_path = os.path.dirname(os.getcwd())\n",
    "\n",
    "bam_path = f'{base_path}/resources/bam/NA12878.slice.bam'\n",
    "ref_path=f'{base_path}/resources/reference/Homo_sapiens_assembly18_slice.fasta'\n",
    "sample_id= 'NA12878'\n",
    "table_name = \"reads\""
   ],
   "metadata": {
    "collapsed": false,
    "pycharm": {
     "name": "#%%\n"
    }
   }
  },
  {
   "cell_type": "code",
   "execution_count": null,
   "outputs": [],
   "source": [
    "from sequila import SequilaSession\n",
    "ss = SequilaSession(spark)\n",
    "\n",
    "ss.sql(f'''CREATE TABLE IF NOT EXISTS {table_name} USING org.biodatageeks.sequila.datasources.BAM.BAMDataSource OPTIONS(path \"{bam_path}\")''')"
   ],
   "metadata": {
    "collapsed": false,
    "pycharm": {
     "name": "#%%\n"
    }
   }
  },
  {
   "cell_type": "code",
   "execution_count": null,
   "outputs": [],
   "source": [
    "# ss.sql(f\"DROP TABLE {table_name}\")"
   ],
   "metadata": {
    "collapsed": false,
    "pycharm": {
     "name": "#%%\n"
    }
   }
  },
  {
   "cell_type": "code",
   "execution_count": null,
   "outputs": [],
   "source": [
    "# ss.sql(f\"SELECT * FROM  pileup('{table_name}', '{sample_id}', '{ref_path}', true)\").show(10)\n"
   ],
   "metadata": {
    "collapsed": false,
    "pycharm": {
     "name": "#%%\n"
    }
   }
  }
 ],
 "metadata": {
  "kernelspec": {
   "display_name": "Python 3",
   "language": "python",
   "name": "python3"
  },
  "language_info": {
   "codemirror_mode": {
    "name": "ipython",
    "version": 2
   },
   "file_extension": ".py",
   "mimetype": "text/x-python",
   "name": "python",
   "nbconvert_exporter": "python",
   "pygments_lexer": "ipython2",
   "version": "2.7.6"
  }
 },
 "nbformat": 4,
 "nbformat_minor": 0
}