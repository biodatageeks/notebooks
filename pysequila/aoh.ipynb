{
 "cells": [
  {
   "cell_type": "code",
   "execution_count": null,
   "metadata": {
    "collapsed": true,
    "jupyter": {
     "outputs_hidden": false
    },
    "pycharm": {
     "name": "#%%\n"
    }
   },
   "outputs": [],
   "source": [
    "%%bash\n",
    "mkdir data\n",
    "cd data\n",
    "    \n",
    "wget http://biodatageeks.ii.pw.edu.pl/sequila/data/WES/NA12878.proper.wes.chr1.md.bam\n",
    "wget http://biodatageeks.ii.pw.edu.pl/sequila/data/WES/Homo_sapiens_assembly18.chr1.fasta\n",
    "wget http://biodatageeks.ii.pw.edu.pl/sequila/data/WES/Homo_sapiens_assembly18.chr1.fasta.fai"
   ]
  },
  {
   "cell_type": "code",
   "execution_count": null,
   "metadata": {
    "collapsed": true
   },
   "outputs": [],
   "source": [
    "pip install pandas"
   ]
  },
  {
   "cell_type": "code",
   "execution_count": null,
   "metadata": {
    "collapsed": true
   },
   "outputs": [],
   "source": [
    "pip install matplotlib"
   ]
  },
  {
   "cell_type": "code",
   "execution_count": null,
   "metadata": {
    "collapsed": true,
    "jupyter": {
     "outputs_hidden": false
    },
    "pycharm": {
     "name": "#%%\n"
    }
   },
   "outputs": [],
   "source": [
    "import os\n",
    "base_path = f\"{os.getcwd()}/data\"\n",
    "bam_path = f'{base_path}/NA12878.proper.wes.chr1.md.bam'\n",
    "ref_path=f'{base_path}/Homo_sapiens_assembly18.chr1.fasta'\n",
    "sample_id= 'NA12878'\n",
    "table_name = 'reads'\n",
    "app_name = \"sequila\""
   ]
  },
  {
   "cell_type": "code",
   "execution_count": null,
   "metadata": {
    "collapsed": true,
    "jupyter": {
     "outputs_hidden": false
    },
    "pycharm": {
     "name": "#%%\n"
    }
   },
   "outputs": [],
   "source": [
    "from pyspark.sql import SparkSession\n",
    "spark = SparkSession \\\n",
    ".builder \\\n",
    ".appName(f'{app_name}') \\\n",
    ".config('spark.driver.memory','16g') \\\n",
    ".getOrCreate()"
   ]
  },
  {
   "cell_type": "code",
   "execution_count": null,
   "metadata": {
    "jupyter": {
     "outputs_hidden": false
    },
    "pycharm": {
     "name": "#%%\n"
    }
   },
   "outputs": [],
   "source": [
    "from pysequila import SequilaSession\n",
    "ss = SequilaSession(spark)\n",
    "ss.sql(f'''DROP TABLE IF EXISTS {table_name}''')\n",
    "ss.sql(f'''CREATE TABLE IF NOT EXISTS {table_name} \\\n",
    "         USING org.biodatageeks.sequila.datasources.BAM.BAMDataSource \\\n",
    "         OPTIONS(path \"{bam_path}\")''')"
   ]
  },
  {
   "cell_type": "code",
   "execution_count": null,
   "metadata": {
    "jupyter": {
     "outputs_hidden": false
    },
    "pycharm": {
     "name": "#%%\n"
    }
   },
   "outputs": [],
   "source": [
    "import pandas as pd\n",
    "pd.options.display.max_columns = None\n",
    "ss.sql(f\"SELECT * FROM {table_name} LIMIT 5\").toPandas()"
   ]
  },
  {
   "cell_type": "code",
   "execution_count": null,
   "metadata": {
    "collapsed": true,
    "jupyter": {
     "outputs_hidden": false
    },
    "pycharm": {
     "name": "#%%\n"
    }
   },
   "outputs": [],
   "source": [
    "df = ss.sql(f\"SELECT * FROM  pileup('{table_name}', '{sample_id}', '{ref_path}', true) WHERE contig='1'\").toPandas()"
   ]
  },
  {
   "cell_type": "code",
   "execution_count": null,
   "metadata": {
    "collapsed": true
   },
   "outputs": [],
   "source": [
    "df['baf'] = df.countNonRef/df.coverage\n",
    "df2 = df[(((df.baf > 0.35) & (df.baf< 0.65)) | (df.baf > 0.9)) & (df.coverage>20) & (df.coverage<300)]"
   ]
  },
  {
   "cell_type": "code",
   "execution_count": null,
   "metadata": {
    "collapsed": true
   },
   "outputs": [],
   "source": [
    "import matplotlib.pyplot as plt\n",
    "plt.rcParams['figure.figsize'] = [15,3]\n",
    "plt.scatter(df2.pos_start, df2.baf, s=30,alpha=0.1)\n",
    "plt.xlabel('Chromosome 1')\n",
    "plt.ylabel('B-allele frequency')\n",
    "plt.ylim(0,1)\n",
    "plt.show()"
   ]
  }
 ],
 "metadata": {
  "kernelspec": {
   "display_name": "Python 3",
   "language": "python",
   "name": "python3"
  },
  "language_info": {
   "codemirror_mode": {
    "name": "ipython",
    "version": 3
   },
   "file_extension": ".py",
   "mimetype": "text/x-python",
   "name": "python",
   "nbconvert_exporter": "python",
   "pygments_lexer": "ipython3",
   "version": "3.6.7"
  }
 },
 "nbformat": 4,
 "nbformat_minor": 4
}
