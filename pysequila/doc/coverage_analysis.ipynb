{
 "cells": [
  {
   "cell_type": "markdown",
   "metadata": {},
   "source": [
    "# Coverage analysis"
   ]
  },
  {
   "cell_type": "markdown",
   "metadata": {},
   "source": [
    "#### Initialize SeQuiLaSession and download sample data (check Initialize section for details)"
   ]
  },
  {
   "cell_type": "code",
   "execution_count": null,
   "metadata": {},
   "outputs": [],
   "source": [
    "%run initialize.ipynb"
   ]
  },
  {
   "cell_type": "markdown",
   "metadata": {},
   "source": [
    "## `coverage`\n",
    "`coverage(tableName: String, sampleId: String, refPath: String)`"
   ]
  },
  {
   "cell_type": "markdown",
   "metadata": {},
   "source": [
    "##### Compute reads coverage over using aligment data\n",
    "\n",
    "#### input parameters\n",
    "* tableName - registered table over alignment files (see File formats for details)\n",
    "* sampleId - name of the sample correspondind to the name of the alignment file without a file extension\n",
    "* outputType - defines whether the output will be grouped into `blocks`(default) or `bases`\n",
    "* windowLength - size of the fixed-length window\n",
    "\n",
    "#### returned columns\n",
    "Blocks or based-level of coverage with the following columns:\n",
    "\n",
    "* sample_id - name of the sample correspondind to the name of the alignment file without a file extension\n",
    "* contig - contig name\n",
    "* pos_start - start postition of a block\n",
    "* pos_end - end postition of a block\n",
    "* coverage - depth of coverage for a block or single position"
   ]
  },
  {
   "cell_type": "code",
   "execution_count": null,
   "metadata": {},
   "outputs": [],
   "source": [
    "ss.sql(f\"SELECT * FROM coverage('{table_name}','{sample_id}') LIMIT 5\").toPandas()"
   ]
  },
  {
   "cell_type": "markdown",
   "metadata": {},
   "source": [
    "In order to include positions(organized in blocks or base-level) with depth of coverage equal 0 you can set the following parameter:"
   ]
  },
  {
   "cell_type": "code",
   "execution_count": null,
   "metadata": {},
   "outputs": [],
   "source": [
    "ss.sql(\"SET spark.biodatageeks.coverage.allPositions=true\")\n",
    "ss.sql(f\"SELECT * FROM coverage('{table_name}','{sample_id}', 'blocks') LIMIT 5\").toPandas()"
   ]
  },
  {
   "cell_type": "markdown",
   "metadata": {},
   "source": [
    "For more details on other coverage related parameters including reads filtering please refer to [SeQuiLa documentation](http://biodatageeks.ii.pw.edu.pl/sequila/modules/coverage/coverage.html?highlight=window#depth-of-coverage-analyses)"
   ]
  },
  {
   "cell_type": "code",
   "execution_count": null,
   "metadata": {},
   "outputs": [],
   "source": [
    "ss.stop()"
   ]
  }
 ],
 "metadata": {
  "kernelspec": {
   "display_name": "pysequila",
   "language": "python",
   "name": "pysequila"
  },
  "language_info": {
   "codemirror_mode": {
    "name": "ipython",
    "version": 3
   },
   "file_extension": ".py",
   "mimetype": "text/x-python",
   "name": "python",
   "nbconvert_exporter": "python",
   "pygments_lexer": "ipython3",
   "version": "3.7.9"
  }
 },
 "nbformat": 4,
 "nbformat_minor": 4
}