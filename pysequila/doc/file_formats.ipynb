{
 "cells": [
  {
   "cell_type": "markdown",
   "metadata": {},
   "source": [
    "# File formats"
   ]
  },
  {
   "cell_type": "markdown",
   "metadata": {},
   "source": [
    "#### Initialize SeQuiLaSession and download sample data (check Initialize section for details)"
   ]
  },
  {
   "cell_type": "code",
   "execution_count": null,
   "metadata": {},
   "outputs": [],
   "source": [
    "%run initialize.ipynb"
   ]
  },
  {
   "cell_type": "markdown",
   "metadata": {},
   "source": [
    "#### BAM"
   ]
  },
  {
   "cell_type": "code",
   "execution_count": null,
   "metadata": {},
   "outputs": [],
   "source": [
    "ss.sql(f'''CREATE TABLE IF NOT EXISTS {table_name} \\\n",
    "         USING org.biodatageeks.sequila.datasources.BAM.BAMDataSource \\\n",
    "         OPTIONS(path \"{bam_path}\")''')"
   ]
  },
  {
   "cell_type": "code",
   "execution_count": null,
   "metadata": {},
   "outputs": [],
   "source": [
    "ss.sql(f'''SELECT distinct cigar,tag_MD FROM {table_name} LIMIT 5''').toPandas()"
   ]
  },
  {
   "cell_type": "markdown",
   "metadata": {},
   "source": [
    "#### CRAM"
   ]
  },
  {
   "cell_type": "code",
   "execution_count": null,
   "metadata": {},
   "outputs": [],
   "source": [
    "ss.sql(f'''CREATE TABLE IF NOT EXISTS {table_name}_cram \\\n",
    "         USING org.biodatageeks.sequila.datasources.BAM.CRAMDataSource \\\n",
    "         OPTIONS(path \"{cram_path}\", refPath \"{ref_path}\")''')"
   ]
  },
  {
   "cell_type": "code",
   "execution_count": null,
   "metadata": {},
   "outputs": [],
   "source": [
    "ss.sql(f'''SELECT distinct cigar,tag_MD FROM {table_name}_cram LIMIT 5''').toPandas()"
   ]
  },
  {
   "cell_type": "markdown",
   "metadata": {},
   "source": [
    "#### VCF"
   ]
  },
  {
   "cell_type": "code",
   "execution_count": null,
   "metadata": {},
   "outputs": [],
   "source": [
    "ss.sql(f'''CREATE TABLE IF NOT EXISTS variants \\\n",
    "         USING org.biodatageeks.sequila.datasources.VCF.VCFDataSource \\\n",
    "         OPTIONS(path \"{vcf_path}\" )''')"
   ]
  },
  {
   "cell_type": "code",
   "execution_count": null,
   "metadata": {},
   "outputs": [],
   "source": [
    "ss.sql(f'''SELECT contig, pos_start, pos_end, ref, alt FROM variants LIMIT 5''').toPandas()"
   ]
  },
  {
   "cell_type": "markdown",
   "metadata": {},
   "source": [
    "#### BED"
   ]
  },
  {
   "cell_type": "code",
   "execution_count": null,
   "metadata": {},
   "outputs": [],
   "source": [
    "ss.sql(f'''\n",
    "    CREATE TABLE IF NOT EXISTS targets(contig String,pos_start Integer,pos_end Integer) \\\n",
    "    USING csv \\\n",
    "    OPTIONS (path \"{bed_path}\", delimiter \"\\t\")''')\n"
   ]
  },
  {
   "cell_type": "code",
   "execution_count": null,
   "metadata": {},
   "outputs": [],
   "source": [
    "ss.sql(f'''SELECT replace(targets.contig,\"chr\",\"\") as contig, pos_start, pos_end FROM targets LIMIT 5''').toPandas()"
   ]
  },
  {
   "cell_type": "code",
   "execution_count": null,
   "metadata": {},
   "outputs": [],
   "source": []
  }
 ],
 "metadata": {
  "kernelspec": {
   "display_name": "pysequila",
   "language": "python",
   "name": "pysequila"
  },
  "language_info": {
   "codemirror_mode": {
    "name": "ipython",
    "version": 3
   },
   "file_extension": ".py",
   "mimetype": "text/x-python",
   "name": "python",
   "nbconvert_exporter": "python",
   "pygments_lexer": "ipython3",
   "version": "3.7.9"
  }
 },
 "nbformat": 4,
 "nbformat_minor": 4
}
