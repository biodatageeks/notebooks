{
 "cells": [
  {
   "cell_type": "markdown",
   "metadata": {},
   "source": [
    "# Genomic intervals"
   ]
  },
  {
   "cell_type": "markdown",
   "metadata": {},
   "source": [
    "#### Initialize SeQuiLaSession and download sample data (check Initialize section for details)"
   ]
  },
  {
   "cell_type": "code",
   "execution_count": null,
   "metadata": {},
   "outputs": [],
   "source": [
    "%run initialize.ipynb"
   ]
  },
  {
   "cell_type": "markdown",
   "metadata": {},
   "source": [
    "#### Create an additional table with features"
   ]
  },
  {
   "cell_type": "code",
   "execution_count": null,
   "metadata": {},
   "outputs": [],
   "source": [
    "ss.sql(f'''\n",
    "    CREATE TABLE IF NOT EXISTS targets(contig String,pos_start Integer,pos_end Integer) \\\n",
    "    USING csv \\\n",
    "    OPTIONS (path \"file:///{bed_path}\", delimiter \"\\t\")''')\n"
   ]
  },
  {
   "cell_type": "code",
   "execution_count": null,
   "metadata": {},
   "outputs": [],
   "source": [
    "ss.sql('SELECT replace(contig,\"chr\",\"\") AS contig, pos_start, pos_end FROM targets LIMIT 5').toPandas()"
   ]
  },
  {
   "cell_type": "markdown",
   "metadata": {},
   "source": [
    "#### Run an interval join query with grouping between `reads` and `targets` tables"
   ]
  },
  {
   "cell_type": "code",
   "execution_count": null,
   "metadata": {},
   "outputs": [],
   "source": [
    "ss.sql(f'''\n",
    "SELECT replace(targets.contig,\"chr\",\"\") AS contig,targets.pos_start,targets.pos_end, count(*) AS cnt FROM reads JOIN targets\n",
    "     ON (replace(targets.contig,\"chr\",\"\") = reads.contig\n",
    "     AND\n",
    "     CAST(reads.pos_end AS INTEGER)>=CAST(targets.pos_start AS INTEGER)\n",
    "     AND\n",
    "     CAST(reads.pos_start AS INTEGER)<=CAST(targets.pos_end AS INTEGER)\n",
    "     )\n",
    "     GROUP BY replace(targets.contig,\"chr\",\"\"),targets.pos_start,targets.pos_end LIMIT 5''').toPandas()"
   ]
  },
  {
   "cell_type": "code",
   "execution_count": null,
   "metadata": {},
   "outputs": [],
   "source": []
  }
 ],
 "metadata": {
  "language_info": {
   "codemirror_mode": {
    "name": "ipython",
    "version": 3
   },
   "file_extension": ".py",
   "mimetype": "text/x-python",
   "name": "python",
   "nbconvert_exporter": "python",
   "pygments_lexer": "ipython3",
   "version": "3.7.9"
  }
 },
 "nbformat": 4,
 "nbformat_minor": 4
}