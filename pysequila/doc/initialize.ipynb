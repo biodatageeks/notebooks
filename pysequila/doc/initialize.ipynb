{
 "cells": [
  {
   "cell_type": "markdown",
   "metadata": {},
   "source": [
    "# Initialize "
   ]
  },
  {
   "cell_type": "markdown",
   "metadata": {},
   "source": [
    "### Download sample data"
   ]
  },
  {
   "cell_type": "code",
   "execution_count": null,
   "metadata": {},
   "outputs": [],
   "source": [
    "%%bash\n",
    "mkdir -p data\n",
    "cd data\n",
    "wget --quiet http://biodatageeks.ii.pw.edu.pl/sequila/data/NA12878.multichrom.md.bam\n",
    "wget --quiet http://biodatageeks.ii.pw.edu.pl/sequila/data/Homo_sapiens_assembly18_chr1_chrM.small.fasta\n",
    "wget --quiet http://biodatageeks.ii.pw.edu.pl/sequila/data/Homo_sapiens_assembly18_chr1_chrM.small.fasta.fai"
   ]
  },
  {
   "cell_type": "code",
   "execution_count": null,
   "metadata": {},
   "outputs": [],
   "source": [
    "### Set helper variables"
   ]
  },
  {
   "cell_type": "code",
   "execution_count": null,
   "metadata": {},
   "outputs": [],
   "source": [
    "import os\n",
    "base_path = f\"{os.getcwd()}/data\"\n",
    "\n",
    "bam_path = f'{base_path}/NA12878.multichrom.md.bam'\n",
    "ref_path=f'{base_path}/Homo_sapiens_assembly18_chr1_chrM.small.fasta'\n",
    "sample_id= 'NA12878'\n",
    "table_name = 'reads'\n",
    "\n",
    "app_name = \"sequila\""
   ]
  },
  {
   "cell_type": "markdown",
   "metadata": {},
   "source": [
    "### Initialize a PySeQuiLa session"
   ]
  },
  {
   "cell_type": "code",
   "execution_count": null,
   "metadata": {},
   "outputs": [],
   "source": [
    "from pyspark.sql import SparkSession\n",
    "from pysequila import SequilaSession\n",
    "import pandas as pd\n",
    "pd.options.display.max_columns = None\n",
    "pd.set_option('max_colwidth', None)\n",
    "\n",
    "\n",
    "spark = SparkSession \\\n",
    ".builder \\\n",
    ".getOrCreate()\n",
    "\n",
    "ss = SequilaSession(spark)"
   ]
  },
  {
   "cell_type": "markdown",
   "metadata": {},
   "source": [
    "### Create a table"
   ]
  },
  {
   "cell_type": "code",
   "execution_count": null,
   "metadata": {},
   "outputs": [],
   "source": [
    "ss.sql(f'''CREATE TABLE IF NOT EXISTS {table_name} \\\n",
    "         USING org.biodatageeks.sequila.datasources.BAM.BAMDataSource \\\n",
    "         OPTIONS(path \"{bam_path}\")''')"
   ]
  }
 ],
 "metadata": {
  "kernelspec": {
   "display_name": "pysequila",
   "language": "python",
   "name": "pysequila"
  },
  "language_info": {
   "codemirror_mode": {
    "name": "ipython",
    "version": 3
   },
   "file_extension": ".py",
   "mimetype": "text/x-python",
   "name": "python",
   "nbconvert_exporter": "python",
   "pygments_lexer": "ipython3",
   "version": "3.7.9"
  }
 },
 "nbformat": 4,
 "nbformat_minor": 4
}
