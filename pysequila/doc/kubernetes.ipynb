{
 "cells": [
  {
   "cell_type": "markdown",
   "metadata": {},
   "source": [
    "# Running on GKE (Google Kubernetes Engine)"
   ]
  },
  {
   "cell_type": "markdown",
   "metadata": {},
   "source": [
    "### Prerequisites"
   ]
  },
  {
   "cell_type": "markdown",
   "metadata": {},
   "source": [
    "In order to deploy Jupyter with a PySeQuiLa kernel configured on Kubernetes please make sure have Helm 3.x installed"
   ]
  },
  {
   "cell_type": "markdown",
   "metadata": {},
   "source": [
    "### Connect to your Kubernetes cluster\n",
    "Run `gcloud` command to do it, e.g."
   ]
  },
  {
   "cell_type": "code",
   "execution_count": 13,
   "metadata": {},
   "outputs": [
    {
     "name": "stderr",
     "output_type": "stream",
     "text": [
      "Fetching cluster endpoint and auth data.\n",
      "kubeconfig entry generated for pysequila.\n"
     ]
    }
   ],
   "source": [
    "%%bash\n",
    "gcloud container clusters get-credentials pysequila --zone us-central1-c --project sincere-woods-273112"
   ]
  },
  {
   "cell_type": "markdown",
   "metadata": {},
   "source": [
    "### Add PySeQuiLa Helm charts repo"
   ]
  },
  {
   "cell_type": "code",
   "execution_count": 2,
   "metadata": {},
   "outputs": [
    {
     "name": "stdout",
     "output_type": "stream",
     "text": [
      "\"biodatageeks\" has been added to your repositories\n"
     ]
    }
   ],
   "source": [
    "%%bash\n",
    "helm repo add biodatageeks https://biodatageeks.github.io/charts/ "
   ]
  },
  {
   "cell_type": "markdown",
   "metadata": {},
   "source": [
    "### Fetch the newest helm chars"
   ]
  },
  {
   "cell_type": "code",
   "execution_count": 5,
   "metadata": {},
   "outputs": [
    {
     "name": "stdout",
     "output_type": "stream",
     "text": [
      "Hang tight while we grab the latest from your chart repositories...\n",
      "...Successfully got an update from the \"biodatageeks\" chart repository\n",
      "...Successfully got an update from the \"biodatageeks-snapshots\" chart repository\n",
      "...Successfully got an update from the \"cetic\" chart repository\n",
      "...Successfully got an update from the \"jupyterhub\" chart repository\n",
      "...Successfully got an update from the \"bitnami\" chart repository\n",
      "Update Complete. ⎈Happy Helming!⎈\n"
     ]
    }
   ],
   "source": [
    "%%bash\n",
    "helm repo update"
   ]
  },
  {
   "cell_type": "markdown",
   "metadata": {},
   "source": [
    "### Install PySeqQuiLa"
   ]
  },
  {
   "cell_type": "code",
   "execution_count": 14,
   "metadata": {},
   "outputs": [
    {
     "name": "stdout",
     "output_type": "stream",
     "text": [
      "NAME: pysequila\n",
      "LAST DEPLOYED: Sat Oct 24 19:53:33 2020\n",
      "NAMESPACE: default\n",
      "STATUS: deployed\n",
      "REVISION: 1\n",
      "TEST SUITE: None\n"
     ]
    }
   ],
   "source": [
    "%%bash\n",
    "helm install pysequila biodatageeks/pysequila --version=0.1.3 --atomic --timeout 3600s"
   ]
  },
  {
   "cell_type": "code",
   "execution_count": 16,
   "metadata": {},
   "outputs": [
    {
     "name": "stdout",
     "output_type": "stream",
     "text": [
      "NAME                              READY   STATUS    RESTARTS   AGE\n",
      "continuous-image-puller-2d7lw     1/1     Running   0          6m28s\n",
      "continuous-image-puller-86dz4     1/1     Running   0          6m28s\n",
      "continuous-image-puller-rg9xv     1/1     Running   0          6m28s\n",
      "hub-5599c9bfbc-gztk5              1/1     Running   0          6m28s\n",
      "proxy-6fc65c5b79-rs6c2            1/1     Running   0          6m28s\n",
      "user-scheduler-7fb9cdfb69-hgq4c   1/1     Running   0          6m28s\n",
      "user-scheduler-7fb9cdfb69-xnxz8   1/1     Running   0          6m28s\n"
     ]
    }
   ],
   "source": [
    "%%bash\n",
    "kubectl get pods"
   ]
  },
  {
   "cell_type": "markdown",
   "metadata": {},
   "source": [
    "### Get public ip address of Jupyterhub\n",
    "\n",
    "![alt text](images/gke-lb.png \"GKE ingress\")\n",
    "\n",
    "Once your Jupyterlab session is spawned you should be able to start your analysis using a `PySeQuiLa` kernel\n",
    "\n",
    "![alt text](images/jupyter.png \"JupyterLab\")"
   ]
  },
  {
   "cell_type": "markdown",
   "metadata": {},
   "source": [
    "For detailed information on how to run and customize Jupyter on Kubernetes please refer to [Zero to JupyterHub with Kubernetes](https://zero-to-jupyterhub.readthedocs.io/en/latest/)"
   ]
  },
  {
   "cell_type": "code",
   "execution_count": null,
   "metadata": {},
   "outputs": [],
   "source": []
  }
 ],
 "metadata": {
  "language_info": {
   "codemirror_mode": {
    "name": "ipython",
    "version": 3
   },
   "file_extension": ".py",
   "mimetype": "text/x-python",
   "name": "python",
   "nbconvert_exporter": "python",
   "pygments_lexer": "ipython3",
   "version": "3.7.9"
  }
 },
 "nbformat": 4,
 "nbformat_minor": 4
}
